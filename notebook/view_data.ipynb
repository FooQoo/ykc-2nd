{
 "cells": [
  {
   "cell_type": "code",
   "execution_count": 2,
   "metadata": {},
   "outputs": [],
   "source": [
    "import pandas as pd"
   ]
  },
  {
   "cell_type": "code",
   "execution_count": 3,
   "metadata": {},
   "outputs": [],
   "source": [
    "train = pd.read_csv(\"../data/train.csv\")"
   ]
  },
  {
   "cell_type": "code",
   "execution_count": 4,
   "metadata": {},
   "outputs": [],
   "source": [
    "train[\"product_name_split\"] = train[\"product_name\"].apply(lambda words : words.lower().replace(\",\", \"\").replace(\"&\", \"\").split(\" \"))"
   ]
  },
  {
   "cell_type": "code",
   "execution_count": 5,
   "metadata": {
    "tags": []
   },
   "outputs": [],
   "source": [
    "from collections import Counter, defaultdict\n",
    "counter = defaultdict(Counter)\n",
    "\n",
    "for e in train.itertuples():\n",
    "    counter[e.department_id].update([word for word in e.product_name_split if word != \"\"])\n",
    "        "
   ]
  },
  {
   "cell_type": "code",
   "execution_count": 6,
   "metadata": {
    "tags": []
   },
   "outputs": [
    {
     "output_type": "stream",
     "name": "stdout",
     "text": "0: [('cream', 286), ('ice', 272), ('chicken', 249), ('pizza', 197), ('frozen', 186), ('cheese', 174), ('with', 151), ('chocolate', 142), ('organic', 125), ('free', 102)]\n\n1: [('flavor', 15), ('organic', 15), ('sleep', 15), ('natural', 14), ('liquid', 13), ('melatonin', 12), ('hand', 12), ('tablets', 11), ('mix', 11), ('baby', 11)]\n\n2: [('bread', 233), ('whole', 103), ('wheat', 91), ('grain', 68), ('tortillas', 61), ('buns', 61), ('organic', 60), ('free', 51), ('gluten', 43), ('chocolate', 39)]\n\n3: [('organic', 257), ('salad', 51), ('baby', 47), ('red', 44), ('bag', 38), ('potatoes', 34), ('sweet', 32), ('lettuce', 28), ('apple', 28), ('mushrooms', 27)]\n\n4: [('wine', 52), ('beer', 50), ('ale', 48), ('sauvignon', 40), ('california', 32), ('cabernet', 29), ('red', 26), ('chardonnay', 26), ('lager', 25), ('whiskey', 24)]\n\n5: [('sauce', 122), ('rice', 48), ('organic', 47), ('noodles', 40), ('noodle', 34), ('soup', 31), ('thai', 27), ('curry', 26), ('mild', 25), ('miso', 22)]\n\n6: [('tea', 497), ('juice', 392), ('organic', 325), ('coffee', 272), ('water', 224), ('drink', 217), ('green', 139), ('soda', 124), ('100%', 121), ('sparkling', 120)]\n\n7: [('food', 301), ('cat', 222), ('dog', 170), ('chicken', 139), ('treats', 57), ('with', 55), ('in', 53), ('beef', 48), ('adult', 44), ('flavor', 44)]\n\n8: [('pasta', 222), ('rice', 180), ('sauce', 177), ('organic', 164), ('cheese', 116), ('whole', 69), ('grain', 66), ('macaroni', 54), ('chicken', 50), ('with', 50)]\n\n9: [('organic', 12), ('rice', 4), ('brown', 2), ('super', 2), ('granola', 2), ('beans', 2), ('wild', 1), ('blend', 1), ('hunza', 1), ('golden', 1)]\n\n10: [('body', 201), ('shampoo', 184), ('with', 160), ('oil', 154), ('wash', 150), ('soap', 146), ('conditioner', 145), ('deodorant', 138), ('tablets', 126), ('mint', 123)]\n\n11: [('chicken', 92), ('smoked', 80), ('sausage', 76), ('beef', 64), ('bacon', 58), ('turkey', 51), ('boneless', 31), ('pork', 31), ('breast', 28), ('ground', 24)]\n\n12: [('organic', 365), ('dressing', 223), ('mix', 204), ('sauce', 166), ('butter', 149), ('oil', 140), ('seasoning', 125), ('free', 108), ('sugar', 100), ('chocolate', 95)]\n\n13: [('cereal', 197), ('granola', 114), ('organic', 81), ('oatmeal', 66), ('free', 52), ('gluten', 48), ('mix', 42), ('honey', 41), ('pancake', 39), ('instant', 38)]\n\n14: [('soup', 236), ('in', 176), ('organic', 156), ('chicken', 126), ('beans', 120), ('with', 110), ('tomatoes', 76), ('light', 66), ('tuna', 60), ('tomato', 57)]\n\n15: [('cheese', 537), ('yogurt', 445), ('milk', 275), ('organic', 218), ('greek', 181), ('fat', 174), ('free', 141), ('vanilla', 133), ('cheddar', 118), ('lowfat', 104)]\n\n16: [('scent', 150), ('detergent', 140), ('cleaner', 135), ('laundry', 131), ('liquid', 108), ('fresh', 105), ('bags', 91), ('paper', 89), ('with', 87), ('ultra', 83)]\n\n17: [('baby', 201), ('organic', 129), ('food', 103), ('stage', 71), ('2', 57), ('with', 56), ('apple', 51), ('banana', 48), ('diapers', 45), ('size', 42)]\n\n18: [('chocolate', 648), ('bar', 378), ('chips', 348), ('organic', 346), ('cookies', 221), ('dark', 215), ('crackers', 207), ('salt', 177), ('butter', 173), ('fruit', 154)]\n\n19: [('turkey', 67), ('hummus', 65), ('chicken', 54), ('organic', 48), ('roasted', 46), ('breast', 44), ('salad', 44), ('deli', 36), ('ham', 36), ('with', 35)]\n\n20: [('organic', 84), ('yogurt', 40), ('cheese', 36), ('chocolate', 33), ('with', 33), ('chicken', 26), ('strawberry', 25), ('vanilla', 22), ('apple', 20), ('fruit', 20)]\n\n"
    }
   ],
   "source": [
    "for i in range(21):\n",
    "    mc = counter[i].most_common(10)\n",
    "    print(f\"{i}: {mc}\\n\")"
   ]
  },
  {
   "cell_type": "markdown",
   "metadata": {},
   "source": [
    "## ラベル推測\n",
    "0. 冷凍製品\n",
    "1. コンビニ?\n",
    "2. パンとかケーキとか\n",
    "3. 野菜とかハーブとか\n",
    "4. 酒\n",
    "5. アジア料理・和食\n",
    "6. コーヒー・お茶\n",
    "7. ペット食品\n",
    "8. 地中海系・フランス系\n",
    "9. 穀物系・シリアル\n",
    "10. メイクアップ・コスメ・シャンプー\n",
    "11. 肉\n",
    "12. 地中海系・イタリアン・調味料\n",
    "13. シリアル・木の実\n",
    "14. 缶詰\n",
    "15. 乳製品\n",
    "16. 日用品・生活用品\n",
    "17. 幼児向け食品・製品\n",
    "18. お菓子・つまみ\n",
    "19. 惣菜\n",
    "20. 食品全般\n",
    "\n",
    "## 考察\n",
    "- 特徴的な製品がなければ見分けがつき辛い\n",
    "- 種類だけでなく、売り場のバリエーションも考慮する\n",
    "- 似た様な売り場は、バリエーションや傾向が違うかも\n",
    "- 20は食品で決め手がなければ、指定しても良さそう\n",
    "- 製品名の長さで切っても良さそう\n",
    "- ベースラインに当て辛い箇所を探しに行く\n",
    "- 予測値のエントロピーが高いケース\n",
    "\n",
    "## ベースライン\n",
    "- サンプル数を揃える\n",
    "- 全データを使う様にアンサンブルする\n",
    "- ロジスティック回帰の出力に大して、rightgbm"
   ]
  },
  {
   "cell_type": "code",
   "execution_count": 11,
   "metadata": {
    "tags": []
   },
   "outputs": [
    {
     "output_type": "execute_result",
     "data": {
      "text/plain": "['Baby Healing Ointment',\n 'Simple Syrup',\n 'Melatonin 1 Mg Peppermint Sublingual Tablets',\n 'Wild Bird Food',\n 'Classic Margarita Mix',\n 'Peanut Butter Pretzels',\n 'Giraffes Diapers Size 4 L',\n 'Recolte Wine',\n 'Pediatric Electrolyte Fruit Flavor Natural & Artificial Flavor',\n 'Melatonin NutraSpray Sublingual Orange Flavor',\n 'Rapid Relief Creamy Diaper Rash Ointment',\n 'Simply Sleep Nighttime Sleep Aid',\n 'California Blush Pink Champagne',\n 'Healing Baby Diaper Rash Cream',\n 'Natural Calm Anti-Stress Drink',\n 'Grape Wine, Coteaux Varois en Provence, 2013',\n 'Lavender & Chamomile Hand Soap',\n \"Children's Grape 24-Hour\",\n 'Melatonin+ 200mg L-Theanine Dietary Supplement Liquid Softgels',\n 'Vanilla Latte Chilled Espresso Beverage',\n 'Whispering Angel Rosé',\n \"Children's Chestal Homeopathic Medicine\",\n 'Greek Style Honey Yogurt',\n 'Massage & Play 2 in 1 Soothing Touch Massage & Intimate Pleasure Gel',\n 'Eucalyptus Ease Bubble Bath',\n 'Natural Sleep Aid',\n 'Homeopathic Remedy, for Travel Fatigue',\n 'Coffee Mate French Vanilla Creamer Packets',\n 'BabyRub® Soothing Ointment',\n 'Cleanse Smart Advanced Total-Body Internal Cleanse 30-Day Program Vegetable Capsules',\n 'Bin No. 27 Finest Reserve Porto',\n 'Organic Sweet Cream Cherry Lime Yogurt',\n 'Garlic Extra Virgin Olive Oil',\n 'Herbatonin 0.3 mg Plant Melatonin Vegan Capsules',\n 'Deep Sleep Herbal Medicine Softgels',\n 'Roasted Unsalted Almonds',\n 'Deep Sleep Herbal Formula',\n 'Zero Calories Apple Sparkling Beverage',\n 'Light Margarita',\n 'Sniffle Support Drops Alcohol Free Formula',\n 'Her Pleasure Ecstasy Ultrasmooth Lubricant Latex Condoms',\n 'Toe Nail Clip',\n 'Queso Fresco Cheese',\n \"Naturals Children's Sleep Melatonin Supplement\",\n 'Pleasure Pack Lubricated Premium Latex Condoms',\n 'Deep Sleep',\n 'Baby Diaper Rash Ointment',\n \"Baby's Vitamin D3\",\n 'Rescue Remedy for Kids',\n 'Detoxificant, No. 7',\n 'Ashwagandha Anti-Stress And Energy Caplets',\n 'Organic Total Body Cleanse',\n 'Organic Tea Tree Oil',\n \"Pears D'Anjou Kid Size Fruit\",\n 'Detox, Bentonite, Great Plains',\n 'Beef Chuck Eye Steak',\n 'Crystal Clear Decorative 60 Watt A Medium Base Ceiling Fan Light Bulb',\n 'Pork Back Ribs',\n 'Soft Peach S-M Underwear for Women Maximum Absorbency',\n 'Limoncello Originale',\n 'Delicious Blush',\n \"Umcka Cold Care Children's Cherry Flavor Syrup\",\n 'Ant Killer Liquid',\n 'Compact Emeryl File',\n 'Pinot Noir Rose',\n 'Lavendar Chamomile Hand Soap',\n 'Super Glue, All Purpose, Brush',\n 'Ovulation & Pregnancy Ovulation Test Kit',\n 'Healing Ointment Advanced Therapy',\n 'Safety Swabs Cotton Products',\n 'Cherry Flavor Natural Calm Anti-Stress Drink',\n 'SystemSupport Liver Cleanse Capsules',\n 'Unflavored Pediatric Electrolyte',\n 'PM Pain Reliever and Nighttime Sleep Aid Caplets',\n 'Tropical Fruit Electrolyte Solution',\n 'Arugula Rocket Salad',\n 'Wellness Herbal Kids Tincture',\n 'Black Pepper Grinder',\n 'Beef Flank Steak',\n 'Pain Relief, Tablets',\n 'Sambucus Nighttime Standardized Elderberry',\n 'Anti-Fungal Liquid, Maximum Strength',\n 'Horseradish Bloody Mary Mix',\n 'Max AAA Batteries',\n 'Lentil And Rice (Creamy Coconut)',\n 'Dark Chocolate Malt Balls',\n 'Moderate Absorbency Long Length Incontinence Pads',\n 'Cloves',\n 'Sweetened Lime Juice',\n 'Arrowroot Powder',\n 'Deep Woods Insect Repellent VII',\n 'Max Bed Bug and Flea Killer',\n 'Antifungal Clotrimazole Cream',\n 'Tolnaftate Powder Spray Antifungal',\n 'Coconut & Warm Ginger Hand Soap',\n 'Floral Arrangement',\n '38210 Full Jaw Cuticle Nipper',\n '100% Pure Moisturizing Apricot Kernel Oil',\n 'PM Simply Sleep Nighttime Sleep Aid Caplets',\n '100% Pure Peppermint Oil']"
     },
     "metadata": {},
     "execution_count": 11
    }
   ],
   "source": [
    "from random import sample\n",
    "\n",
    "zero = train.loc[train.department_id == 1,\"product_name\"].tolist()\n",
    "sample(zero, 100)"
   ]
  },
  {
   "cell_type": "code",
   "execution_count": null,
   "metadata": {},
   "outputs": [],
   "source": []
  }
 ],
 "metadata": {
  "language_info": {
   "codemirror_mode": {
    "name": "ipython",
    "version": 3
   },
   "file_extension": ".py",
   "mimetype": "text/x-python",
   "name": "python",
   "nbconvert_exporter": "python",
   "pygments_lexer": "ipython3",
   "version": 3
  },
  "orig_nbformat": 2,
  "kernelspec": {
   "name": "python_defaultSpec_1594434514172",
   "display_name": "Python 3.8.2 64-bit ('.venv': venv)"
  }
 },
 "nbformat": 4,
 "nbformat_minor": 2
}