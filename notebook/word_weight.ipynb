{
 "cells": [
  {
   "cell_type": "code",
   "execution_count": 2,
   "metadata": {},
   "outputs": [],
   "source": [
    "import numpy as np\n",
    "import pandas as pd\n",
    "from sklearn.metrics import log_loss\n",
    "from sklearn.metrics import f1_score\n",
    "from sklearn.feature_extraction.text import TfidfVectorizer\n",
    "from collections import Counter\n",
    "from lightgbm import LGBMClassifier\n",
    "\n",
    "from sklearn.model_selection import KFold\n",
    "import matplotlib.pyplot as plt\n",
    "%matplotlib inline\n",
    "from sklearn.decomposition import PCA\n",
    "from tqdm.notebook import tqdm\n",
    "import gensim\n",
    "import os\n",
    "import seaborn as sns"
   ]
  },
  {
   "cell_type": "code",
   "execution_count": 3,
   "metadata": {},
   "outputs": [],
   "source": [
    "train = pd.read_csv(\"../data/train_with_label.csv\")"
   ]
  },
  {
   "cell_type": "code",
   "execution_count": 8,
   "metadata": {
    "tags": []
   },
   "outputs": [],
   "source": [
    "train[\"words\"] = train[\"product_name\"].apply(lambda words : [word for word in words.lower().replace(\",\", \"\").replace(\"&\", \"\").split(\" \") if word != \"\"])\n",
    "train[\"bigram\"] = train.words.apply(lambda words: [f'{words[i]} {words[i+1]}' for i in range(len(words)-1)])\n",
    "train[\"trigram\"] = train.words.apply(lambda words: [f'{words[i]} {words[i+1]} {words[i+2]}' for i in range(len(words)-2)])"
   ]
  },
  {
   "cell_type": "code",
   "execution_count": 13,
   "metadata": {
    "tags": []
   },
   "outputs": [
    {
     "output_type": "stream",
     "name": "stdout",
     "text": "0: [('ice cream', 244), ('gluten free', 87), ('frozen dessert', 44), ('pepperoni pizza', 33), ('chocolate chip', 30), ('cream bars', 30), ('chicken breast', 28), ('thin crust', 26), ('cheese pizza', 26), ('vanilla ice', 23), ('peanut butter', 19), ('chocolate ice', 19), ('all natural', 17), ('dark chocolate', 17), ('white meat', 16), ('slow churned', 16), ('four cheese', 16), ('sea salt', 16), ('frozen dairy', 16)]\n\n1: [('hand soap', 9), ('sleep aid', 8), ('diaper rash', 5), ('nighttime sleep', 5), ('cherry flavor', 5), ('latex condoms', 5), ('bloody mary', 5), ('1 mg', 4), ('personal lubricant', 4), ('natural calm', 4), ('rash ointment', 4), ('100% pure', 4), ('mg tablets', 4), ('mary mix', 4), ('melatonin 1', 3), ('beef chuck', 3), ('tea tree', 3), ('tree oil', 3), ('margarita mix', 3)]\n\n2: [('whole wheat', 52), ('gluten free', 43), ('whole grain', 39), ('hamburger buns', 27), ('100% whole', 23), ('grain bread', 21), ('wheat bread', 21), ('hot dog', 18), ('flour tortillas', 18), ('english muffins', 16), ('dog buns', 15), ('rye bread', 13), ('white bread', 10), ('pizza crust', 9), ('corn tortillas', 9), ('italian bread', 8), ('soft taco', 8), ('sliced bread', 8), ('cinnamon raisin', 8)]\n\n3: [('salad kit', 16), ('organic red', 15), ('organic baby', 11), ('bag of', 10), ('organic green', 9), ('spring mix', 9), ('chopped salad', 9), ('baby spinach', 8), ('grape tomatoes', 6), ('cherry tomatoes', 6), ('on the', 6), ('fingerling potatoes', 6), ('romaine lettuce', 6), ('organic white', 6), ('bell pepper', 5), ('organic romaine', 5), ('seedless grapes', 4), ('green leaf', 4), ('apple slices', 4)]\n\n4: [('cabernet sauvignon', 26), ('pinot noir', 15), ('sauvignon blanc', 13), ('pale ale', 11), ('red wine', 10), ('pinot grigio', 8), ('central coast', 7), ('napa valley', 7), ('sauvignon wine', 7), ('sonoma county', 6), ('belgian style', 6), ('paso robles', 5), ('wheat beer', 5), ('flavored vodka', 5), ('hard cider', 5), ('scotch whiskey', 5), ('bourbon whiskey', 5), ('blended scotch', 5), ('sauvignon california', 4)]\n\n5: [('soy sauce', 16), ('noodle soup', 14), ('brown rice', 12), ('simmer sauce', 12), ('enchilada sauce', 11), ('noodle bowl', 10), ('low sodium', 9), ('pad thai', 9), ('stir fry', 9), ('gluten free', 8), ('rice noodle', 8), ('seaweed snacks', 7), ('rice noodles', 7), ('cooking sauce', 7), ('sesame oil', 7), ('egg noodles', 6), ('roasted seaweed', 6), ('taco shells', 6), ('gefilte fish', 5)]\n\n6: [('green tea', 104), ('tea bags', 98), ('herbal tea', 68), ('ground coffee', 61), ('black tea', 57), ('100% juice', 47), ('coconut water', 43), ('juice drink', 42), ('caffeine free', 42), ('drink mix', 39), ('iced tea', 37), ('whole bean', 36), ('sparkling water', 36), ('orange juice', 35), ('medium roast', 35), ('sports drink', 35), ('energy drink', 32), ('apple juice', 27), ('roast ground', 26)]\n\n7: [('cat food', 170), ('dog food', 110), ('in gravy', 31), ('grain free', 27), ('dog treats', 25), ('gravy cat', 23), ('cat treats', 21), ('wet dog', 20), ('cat litter', 17), ('brown rice', 17), ('dry dog', 16), ('dry cat', 15), ('for dogs', 15), ('flavor dog', 14), ('wet cat', 14), ('sweet potato', 13), ('food for', 13), ('proactive health', 12), ('adult dog', 12)]\n\n8: [('pasta sauce', 82), ('whole wheat', 33), ('brown rice', 31), ('gluten free', 31), ('whole grain', 30), ('macaroni cheese', 29), ('long grain', 23), ('roasted garlic', 20), ('organic whole', 17), ('mashed potatoes', 17), ('penne rigate', 16), ('cheese dinner', 15), ('tomato basil', 15), ('white cheddar', 15), ('cheddar macaroni', 14), ('chicken flavor', 14), ('four cheese', 13), ('grain rice', 13), ('rice mix', 12)]\n\n9: [('organic pearled', 1), ('pearled barley', 1), ('wild rice', 1), ('rice blend', 1), ('pesto sauce', 1), ('super nutty', 1), ('nutty granola', 1), ('cranberry beans', 1), ('organic turkish', 1), ('turkish apricots', 1), ('organic wheat', 1), ('wheat bran', 1), ('organic mung', 1), ('mung beans', 1), ('organic emmer', 1), ('emmer farro', 1), ('organic split', 1), ('split green', 1), ('green peas', 1)]\n\n10: [('body wash', 95), ('hand soap', 60), ('tea tree', 38), ('body lotion', 37), ('dietary supplement', 35), ('maximum strength', 33), ('in 1', 33), ('vitamin c', 31), ('antiperspirant deodorant', 31), ('lip balm', 29), ('sensitive skin', 26), ('vitamin d3', 26), ('aloe vera', 25), ('spf 30', 24), ('2 in', 24), ('chewable tablets', 23), ('vitamin e', 23), ('fragrance free', 22), ('anti-perspirant deodorant', 22)]\n\n11: [('chicken sausage', 19), ('chicken breast', 17), ('fully cooked', 13), ('beef franks', 13), ('smoked sausage', 12), ('boneless skinless', 11), ('hickory smoked', 11), ('skinless chicken', 10), ('ground turkey', 10), ('smoked bacon', 10), ('ground beef', 9), ('turkey sausage', 8), ('smoked salmon', 8), ('turkey breast', 8), ('lean ground', 7), ('chicken thighs', 7), ('center cut', 7), ('cut bacon', 7), ('sliced bacon', 7)]\n\n12: [('peanut butter', 62), ('olive oil', 52), ('all natural', 42), ('gluten free', 41), ('extra virgin', 35), ('seasoning mix', 33), ('cake mix', 33), ('salad dressing', 31), ('fruit spread', 28), ('almond butter', 28), ('sea salt', 25), ('virgin olive', 24), ('sugar free', 22), ('ranch dressing', 20), ('vinaigrette dressing', 20), ('hot sauce', 19), ('balsamic vinaigrette', 19), ('bbq sauce', 19), ('balsamic vinegar', 19)]\n\n13: [('gluten free', 48), ('instant oatmeal', 27), ('waffle mix', 20), ('pancake waffle', 18), ('brown sugar', 17), ('peanut butter', 17), ('special k', 17), ('steel cut', 15), ('toaster pastries', 14), ('whole grain', 14), ('pancake mix', 13), ('maple brown', 11), ('flakes cereal', 11), ('hot cereal', 11), ('variety pack', 9), ('apple cinnamon', 9), ('cereal bars', 9), ('granola bars', 9), ('buttermilk pancake', 9)]\n\n14: [('in water', 45), ('no salt', 34), ('olive oil', 31), ('salt added', 30), ('diced tomatoes', 24), ('condensed soup', 23), ('fat free', 21), ('tuna in', 21), ('cream of', 20), ('low sodium', 20), ('sardines in', 18), ('noodle soup', 18), ('light syrup', 17), ('chicken noodle', 17), ('pinto beans', 17), ('chunk light', 17), ('light tuna', 16), ('baked beans', 16), ('chicken broth', 15)]\n\n15: [('greek yogurt', 101), ('cheddar cheese', 66), ('reduced fat', 57), ('fat free', 51), ('whole milk', 48), ('low fat', 43), ('lowfat yogurt', 39), ('sharp cheddar', 38), ('cottage cheese', 37), ('coffee creamer', 33), ('coconut milk', 33), ('cream cheese', 31), ('dairy free', 29), ('jack cheese', 28), ('lactose free', 27), ('nonfat yogurt', 26), ('shredded cheese', 25), ('cheese slices', 25), ('milk yogurt', 24)]\n\n16: [('laundry detergent', 108), ('liquid laundry', 47), ('air freshener', 44), ('fresh scent', 39), ('fabric softener', 38), ('paper towels', 33), ('heavy duty', 30), ('tall kitchen', 28), ('free clear', 27), ('toilet bowl', 24), ('bowl cleaner', 24), ('stain remover', 23), ('bathroom tissue', 22), ('scented oil', 22), ('dish soap', 21), ('13 gallon', 20), ('dishwasher detergent', 20), ('all purpose', 19), ('toilet paper', 18)]\n\n17: [('baby food', 102), ('stage 2', 44), ('2nd foods', 34), ('infant formula', 25), ('organic baby', 25), ('baby wipes', 18), ('sweet potato', 17), ('training pants', 15), ('stage 1', 14), ('stage 3', 13), ('2 baby', 12), ('learning designs', 11), ('with iron', 10), ('size 3', 9), ('greek yogurt', 9), ('diapers size', 9), ('free clear', 9), ('size 4', 9), ('jumbo pack', 9)]\n\n18: [('dark chocolate', 194), ('sea salt', 148), ('milk chocolate', 116), ('peanut butter', 105), ('potato chips', 100), ('chocolate chip', 71), ('tortilla chips', 70), ('gluten free', 66), ('chocolate bar', 58), ('protein bar', 46), ('granola bars', 40), ('chocolate with', 35), ('snack crackers', 30), ('white cheddar', 29), ('sugar free', 29), ('fruit nut', 27), ('baked snack', 26), ('candy bar', 26), ('kettle cooked', 26)]\n\n19: [('turkey breast', 32), ('oven roasted', 14), ('roasted turkey', 13), ('chicken breast', 12), ('fat free', 11), ('deli slices', 9), ('roast beef', 9), ('red pepper', 8), ('all natural', 7), ('extra firm', 7), ('potato salad', 7), ('honey ham', 7), ('smoked ham', 7), ('ultra thin', 6), ('deli fresh', 6), ('smoked turkey', 6), ('firm tofu', 6), ('roasted red', 6), ('rotisserie seasoned', 6)]\n\n20: [('greek yogurt', 8), ('dark chocolate', 8), ('whole milk', 7), ('ice cream', 7), ('stage 2', 7), ('sea salt', 6), ('almond milk', 6), ('cheddar cheese', 5), ('nonfat yogurt', 5), ('noodle soup', 5), ('baby food', 5), ('chocolate chip', 5), ('peanut butter', 5), ('mac cheese', 5), ('limited edition', 5), ('cold brew', 4), ('cream cheese', 4), ('chicken flavor', 4), ('black cherry', 4)]\n\n"
    }
   ],
   "source": [
    "from collections import Counter, defaultdict\n",
    "counter = defaultdict(Counter)\n",
    "\n",
    "for e in train.itertuples():\n",
    "    counter[e.department_id].update([word for word in e.bigram if word != \"\"])\n",
    "        \n",
    "keywords = {}\n",
    "\n",
    "for i in range(21):\n",
    "    mc = counter[i].most_common(19)\n",
    "    keywords[i] = [c[0] for c in mc]\n",
    "    print(f\"{i}: {mc}\\n\")"
   ]
  },
  {
   "cell_type": "code",
   "execution_count": 14,
   "metadata": {
    "tags": []
   },
   "outputs": [
    {
     "output_type": "stream",
     "name": "stdout",
     "text": "{0: ['ice cream', 'gluten free', 'frozen dessert', 'pepperoni pizza', 'chocolate chip', 'cream bars', 'chicken breast', 'thin crust', 'cheese pizza', 'vanilla ice', 'peanut butter', 'chocolate ice', 'all natural', 'dark chocolate', 'white meat', 'slow churned', 'four cheese', 'sea salt', 'frozen dairy'], 1: ['hand soap', 'sleep aid', 'diaper rash', 'nighttime sleep', 'cherry flavor', 'latex condoms', 'bloody mary', '1 mg', 'personal lubricant', 'natural calm', 'rash ointment', '100% pure', 'mg tablets', 'mary mix', 'melatonin 1', 'beef chuck', 'tea tree', 'tree oil', 'margarita mix'], 2: ['whole wheat', 'gluten free', 'whole grain', 'hamburger buns', '100% whole', 'grain bread', 'wheat bread', 'hot dog', 'flour tortillas', 'english muffins', 'dog buns', 'rye bread', 'white bread', 'pizza crust', 'corn tortillas', 'italian bread', 'soft taco', 'sliced bread', 'cinnamon raisin'], 3: ['salad kit', 'organic red', 'organic baby', 'bag of', 'organic green', 'spring mix', 'chopped salad', 'baby spinach', 'grape tomatoes', 'cherry tomatoes', 'on the', 'fingerling potatoes', 'romaine lettuce', 'organic white', 'bell pepper', 'organic romaine', 'seedless grapes', 'green leaf', 'apple slices'], 4: ['cabernet sauvignon', 'pinot noir', 'sauvignon blanc', 'pale ale', 'red wine', 'pinot grigio', 'central coast', 'napa valley', 'sauvignon wine', 'sonoma county', 'belgian style', 'paso robles', 'wheat beer', 'flavored vodka', 'hard cider', 'scotch whiskey', 'bourbon whiskey', 'blended scotch', 'sauvignon california'], 5: ['soy sauce', 'noodle soup', 'brown rice', 'simmer sauce', 'enchilada sauce', 'noodle bowl', 'low sodium', 'pad thai', 'stir fry', 'gluten free', 'rice noodle', 'seaweed snacks', 'rice noodles', 'cooking sauce', 'sesame oil', 'egg noodles', 'roasted seaweed', 'taco shells', 'gefilte fish'], 6: ['green tea', 'tea bags', 'herbal tea', 'ground coffee', 'black tea', '100% juice', 'coconut water', 'juice drink', 'caffeine free', 'drink mix', 'iced tea', 'whole bean', 'sparkling water', 'orange juice', 'medium roast', 'sports drink', 'energy drink', 'apple juice', 'roast ground'], 7: ['cat food', 'dog food', 'in gravy', 'grain free', 'dog treats', 'gravy cat', 'cat treats', 'wet dog', 'cat litter', 'brown rice', 'dry dog', 'dry cat', 'for dogs', 'flavor dog', 'wet cat', 'sweet potato', 'food for', 'proactive health', 'adult dog'], 8: ['pasta sauce', 'whole wheat', 'brown rice', 'gluten free', 'whole grain', 'macaroni cheese', 'long grain', 'roasted garlic', 'organic whole', 'mashed potatoes', 'penne rigate', 'cheese dinner', 'tomato basil', 'white cheddar', 'cheddar macaroni', 'chicken flavor', 'four cheese', 'grain rice', 'rice mix'], 9: ['organic pearled', 'pearled barley', 'wild rice', 'rice blend', 'pesto sauce', 'super nutty', 'nutty granola', 'cranberry beans', 'organic turkish', 'turkish apricots', 'organic wheat', 'wheat bran', 'organic mung', 'mung beans', 'organic emmer', 'emmer farro', 'organic split', 'split green', 'green peas'], 10: ['body wash', 'hand soap', 'tea tree', 'body lotion', 'dietary supplement', 'maximum strength', 'in 1', 'vitamin c', 'antiperspirant deodorant', 'lip balm', 'sensitive skin', 'vitamin d3', 'aloe vera', 'spf 30', '2 in', 'chewable tablets', 'vitamin e', 'fragrance free', 'anti-perspirant deodorant'], 11: ['chicken sausage', 'chicken breast', 'fully cooked', 'beef franks', 'smoked sausage', 'boneless skinless', 'hickory smoked', 'skinless chicken', 'ground turkey', 'smoked bacon', 'ground beef', 'turkey sausage', 'smoked salmon', 'turkey breast', 'lean ground', 'chicken thighs', 'center cut', 'cut bacon', 'sliced bacon'], 12: ['peanut butter', 'olive oil', 'all natural', 'gluten free', 'extra virgin', 'seasoning mix', 'cake mix', 'salad dressing', 'fruit spread', 'almond butter', 'sea salt', 'virgin olive', 'sugar free', 'ranch dressing', 'vinaigrette dressing', 'hot sauce', 'balsamic vinaigrette', 'bbq sauce', 'balsamic vinegar'], 13: ['gluten free', 'instant oatmeal', 'waffle mix', 'pancake waffle', 'brown sugar', 'peanut butter', 'special k', 'steel cut', 'toaster pastries', 'whole grain', 'pancake mix', 'maple brown', 'flakes cereal', 'hot cereal', 'variety pack', 'apple cinnamon', 'cereal bars', 'granola bars', 'buttermilk pancake'], 14: ['in water', 'no salt', 'olive oil', 'salt added', 'diced tomatoes', 'condensed soup', 'fat free', 'tuna in', 'cream of', 'low sodium', 'sardines in', 'noodle soup', 'light syrup', 'chicken noodle', 'pinto beans', 'chunk light', 'light tuna', 'baked beans', 'chicken broth'], 15: ['greek yogurt', 'cheddar cheese', 'reduced fat', 'fat free', 'whole milk', 'low fat', 'lowfat yogurt', 'sharp cheddar', 'cottage cheese', 'coffee creamer', 'coconut milk', 'cream cheese', 'dairy free', 'jack cheese', 'lactose free', 'nonfat yogurt', 'shredded cheese', 'cheese slices', 'milk yogurt'], 16: ['laundry detergent', 'liquid laundry', 'air freshener', 'fresh scent', 'fabric softener', 'paper towels', 'heavy duty', 'tall kitchen', 'free clear', 'toilet bowl', 'bowl cleaner', 'stain remover', 'bathroom tissue', 'scented oil', 'dish soap', '13 gallon', 'dishwasher detergent', 'all purpose', 'toilet paper'], 17: ['baby food', 'stage 2', '2nd foods', 'infant formula', 'organic baby', 'baby wipes', 'sweet potato', 'training pants', 'stage 1', 'stage 3', '2 baby', 'learning designs', 'with iron', 'size 3', 'greek yogurt', 'diapers size', 'free clear', 'size 4', 'jumbo pack'], 18: ['dark chocolate', 'sea salt', 'milk chocolate', 'peanut butter', 'potato chips', 'chocolate chip', 'tortilla chips', 'gluten free', 'chocolate bar', 'protein bar', 'granola bars', 'chocolate with', 'snack crackers', 'white cheddar', 'sugar free', 'fruit nut', 'baked snack', 'candy bar', 'kettle cooked'], 19: ['turkey breast', 'oven roasted', 'roasted turkey', 'chicken breast', 'fat free', 'deli slices', 'roast beef', 'red pepper', 'all natural', 'extra firm', 'potato salad', 'honey ham', 'smoked ham', 'ultra thin', 'deli fresh', 'smoked turkey', 'firm tofu', 'roasted red', 'rotisserie seasoned'], 20: ['greek yogurt', 'dark chocolate', 'whole milk', 'ice cream', 'stage 2', 'sea salt', 'almond milk', 'cheddar cheese', 'nonfat yogurt', 'noodle soup', 'baby food', 'chocolate chip', 'peanut butter', 'mac cheese', 'limited edition', 'cold brew', 'cream cheese', 'chicken flavor', 'black cherry']}\n"
    }
   ],
   "source": [
    "print(keywords)"
   ]
  },
  {
   "cell_type": "code",
   "execution_count": null,
   "metadata": {},
   "outputs": [],
   "source": []
  }
 ],
 "metadata": {
  "language_info": {
   "codemirror_mode": {
    "name": "ipython",
    "version": 3
   },
   "file_extension": ".py",
   "mimetype": "text/x-python",
   "name": "python",
   "nbconvert_exporter": "python",
   "pygments_lexer": "ipython3",
   "version": 3
  },
  "orig_nbformat": 2,
  "kernelspec": {
   "name": "python_defaultSpec_1594528993115",
   "display_name": "Python 3.8.2 64-bit ('.venv': venv)"
  }
 },
 "nbformat": 4,
 "nbformat_minor": 2
}